{
 "cells": [
  {
   "cell_type": "markdown",
   "metadata": {
    "id": "EgRGVejfN_DP"
   },
   "source": [
    "1.In a study, the researchers wish to see the percentage of registered voters in a  population who were in favor of candidate A in an election was more than 40%. A  random sample of registered voters in this population was taken. Among 800  people participated in the survey, 380 of them voted for candidate A.\n",
    "\n",
    "a) Report the 95% confidence interval for estimating the percentage of people in the  population who would vote for candidate A. Please use point estimate ± margin of  error format to report the confidence interval.  \n",
    "b) If the researchers would like to estimate a sample size for the study, and there is  no prior knowledge of the proportion, how large a sample would be needed for  constructing a confidence interval for estimating the percentage of people will be  in favor of candidate A with a 95 confidence level and a 2% margin of error?"
   ]
  },
  {
   "cell_type": "code",
   "execution_count": 1,
   "metadata": {
    "id": "xw29tAwlnPbw"
   },
   "outputs": [],
   "source": [
    "from scipy import stats\n",
    "import math"
   ]
  },
  {
   "cell_type": "code",
   "execution_count": 2,
   "metadata": {},
   "outputs": [],
   "source": [
    "p=380/800\n",
    "z=1.96\n",
    "n=380"
   ]
  },
  {
   "cell_type": "code",
   "execution_count": 3,
   "metadata": {
    "colab": {
     "base_uri": "https://localhost:8080/"
    },
    "id": "XORGS2R2nPKT",
    "outputId": "f7e39ba0-e4f9-4931-a6f0-61a97c8e426a"
   },
   "outputs": [],
   "source": [
    "margin_of_error = z * math.sqrt((p*(1-p))/n)"
   ]
  },
  {
   "cell_type": "code",
   "execution_count": 4,
   "metadata": {},
   "outputs": [
    {
     "name": "stdout",
     "output_type": "stream",
     "text": [
      "Confidence Interval is :  (0.4247899412467979, 0.525210058753202)\n"
     ]
    }
   ],
   "source": [
    "confidence_interval = (p - margin_of_error,  p + margin_of_error)\n",
    "print('Confidence Interval is : ',confidence_interval)"
   ]
  },
  {
   "cell_type": "code",
   "execution_count": 5,
   "metadata": {
    "colab": {
     "base_uri": "https://localhost:8080/"
    },
    "id": "JJnDwGN-vP8F",
    "outputId": "472c49c0-2da7-4250-bf29-179a709a41ad"
   },
   "outputs": [
    {
     "name": "stdout",
     "output_type": "stream",
     "text": [
      "Sample size is: 2394.9974999999995\n"
     ]
    }
   ],
   "source": [
    "#Using margin of error formula,calculating value of n for given details with  2% margin of error\n",
    "margin_of_error_2 =0.02\n",
    "n1=(p*(1-p))*z**2/ margin_of_error_2**2\n",
    "print('Sample size is:',n1)"
   ]
  },
  {
   "cell_type": "markdown",
   "metadata": {
    "id": "nZSu5Ug7OAqs"
   },
   "source": [
    "2.a) Perform a statistical hypothesis test using 5% as the level of significance to see  if the average arm span for the 11th graders in Ohio is more than 160 cm. You  must state null and alternative hypothesis, check normality assumption, report  test statistic value, report p-value, and draw a proper conclusion. (mean=200) [n=24]\n",
    "[SD=80]\n",
    "Null hypothesis: The average arm span for the students is [less than] 160cm\n",
    "Alternative hypothesis: The average arm span for students is more than 160 cm .Report p-value from the normality test, make a quantile-comparison plot, and  draw a conclusion.\n",
    "\n",
    "b) Find the 95% confidence interval for estimating the average arm span for  the sampled population."
   ]
  },
  {
   "cell_type": "code",
   "execution_count": 6,
   "metadata": {},
   "outputs": [],
   "source": [
    "x=200\n",
    "u=160\n",
    "s=80\n",
    "n2=24"
   ]
  },
  {
   "cell_type": "code",
   "execution_count": 7,
   "metadata": {
    "colab": {
     "base_uri": "https://localhost:8080/"
    },
    "id": "0AkWiaLn2XwL",
    "outputId": "e4e4de6a-bc89-4811-b774-e26bdc0796f6"
   },
   "outputs": [
    {
     "name": "stdout",
     "output_type": "stream",
     "text": [
      "t value is: 190.20204102886728\n"
     ]
    }
   ],
   "source": [
    "t=x-u/(s/math.sqrt(n2))\n",
    "print('t value is:',t)"
   ]
  },
  {
   "cell_type": "code",
   "execution_count": 8,
   "metadata": {
    "colab": {
     "base_uri": "https://localhost:8080/"
    },
    "id": "fzSt0_Y18Yoj",
    "outputId": "7b3e7f31-fb8d-4bd0-cf63-229606f8b5c9"
   },
   "outputs": [
    {
     "data": {
      "text/plain": [
       "0.0"
      ]
     },
     "execution_count": 8,
     "metadata": {},
     "output_type": "execute_result"
    }
   ],
   "source": [
    "from scipy.stats import t\n",
    "#df=n-1 df=24-1=23\n",
    "df=23\n",
    "p_val=1 - t.cdf(df,190.20204102886728)\n",
    "p_val"
   ]
  },
  {
   "cell_type": "code",
   "execution_count": 9,
   "metadata": {
    "colab": {
     "base_uri": "https://localhost:8080/"
    },
    "id": "elG33T_Sy6Hz",
    "outputId": "d82035dd-8a47-4a87-87a0-2e7d1a20302c"
   },
   "outputs": [
    {
     "name": "stderr",
     "output_type": "stream",
     "text": [
      "C:\\Users\\gawat\\AppData\\Local\\Temp\\ipykernel_20436\\1476074850.py:1: DeprecationWarning: Use of keyword argument 'alpha' for method 'interval' is deprecated and wil be removed in SciPy 1.11.0. Use first positional argument or keyword argument 'confidence' instead.\n",
      "  stats.t.interval(alpha = 0.05 , df= 23)\n"
     ]
    },
    {
     "data": {
      "text/plain": [
       "(-0.06339463335686621, 0.06339463332804578)"
      ]
     },
     "execution_count": 9,
     "metadata": {},
     "output_type": "execute_result"
    }
   ],
   "source": [
    "stats.t.interval(alpha = 0.05 , df= 23)"
   ]
  },
  {
   "cell_type": "markdown",
   "metadata": {
    "id": "ITz01VBJP1Jv"
   },
   "source": [
    "The calculated p value is significantly lower than the significance level. As a result, we accept the alternative hypothesis (the negation) and reject the null hypothesis."
   ]
  }
 ],
 "metadata": {
  "colab": {
   "provenance": []
  },
  "kernelspec": {
   "display_name": "Python 3 (ipykernel)",
   "language": "python",
   "name": "python3"
  },
  "language_info": {
   "codemirror_mode": {
    "name": "ipython",
    "version": 3
   },
   "file_extension": ".py",
   "mimetype": "text/x-python",
   "name": "python",
   "nbconvert_exporter": "python",
   "pygments_lexer": "ipython3",
   "version": "3.10.9"
  }
 },
 "nbformat": 4,
 "nbformat_minor": 1
}
